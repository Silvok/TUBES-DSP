{
 "cells": [
  {
   "cell_type": "code",
   "execution_count": 6,
   "id": "f3483b61",
   "metadata": {},
   "outputs": [],
   "source": [
    "import cv2\n",
    "import numpy as np\n",
    "import matplotlib.pyplot as plt\n",
    "from scipy.signal import find_peaks, butter, filtfilt\n",
    "from scipy.fft import fft, fftfreq\n",
    "import time"
   ]
  },
  {
   "cell_type": "code",
   "execution_count": 7,
   "id": "9b6a4f06",
   "metadata": {},
   "outputs": [],
   "source": [
    "def detect_face(frame):\n",
    "\t\"\"\"\n",
    "\tArgs:\n",
    "\t\tframe: Frame video dari webcam dalam format BGR\n",
    "\n",
    "\tReturns:\n",
    "\t\ttuple: (x, y, w, h) koordinat dan dimensi wajah, atau None jika tidak ada wajah\n",
    "\t\"\"\"\n",
    "\tface_cascade = cv2.CascadeClassifier(cv2.data.haarcascades + 'haarcascade_frontalface_default.xml')"
   ]
  },
  {
   "cell_type": "code",
   "execution_count": null,
   "id": "17551a4c",
   "metadata": {},
   "outputs": [
    {
     "ename": "NameError",
     "evalue": "name 'frame' is not defined",
     "output_type": "error",
     "traceback": [
      "\u001b[31m---------------------------------------------------------------------------\u001b[39m",
      "\u001b[31mNameError\u001b[39m                                 Traceback (most recent call last)",
      "\u001b[36mCell\u001b[39m\u001b[36m \u001b[39m\u001b[32mIn[8]\u001b[39m\u001b[32m, line 1\u001b[39m\n\u001b[32m----> \u001b[39m\u001b[32m1\u001b[39m gray = cv2.cvtColor(\u001b[43mframe\u001b[49m, cv2.COLOR_BGR2GRAY)\n",
      "\u001b[31mNameError\u001b[39m: name 'frame' is not defined"
     ]
    }
   ],
   "source": [
    "# Example: read an image from file\n",
    "frame = cv2.imread('sample.jpg')  # replace 'sample.jpg' with your image path\n",
    "\n",
    "gray = cv2.cvtColor(frame, cv2.COLOR_BGR2GRAY)"
   ]
  }
 ],
 "metadata": {
  "kernelspec": {
   "display_name": "HO2_env",
   "language": "python",
   "name": "python3"
  },
  "language_info": {
   "codemirror_mode": {
    "name": "ipython",
    "version": 3
   },
   "file_extension": ".py",
   "mimetype": "text/x-python",
   "name": "python",
   "nbconvert_exporter": "python",
   "pygments_lexer": "ipython3",
   "version": "3.12.10"
  }
 },
 "nbformat": 4,
 "nbformat_minor": 5
}
